{
 "cells": [
  {
   "cell_type": "markdown",
   "id": "solved-quantum",
   "metadata": {},
   "source": [
    "## Predicting 2021 rent  in NYC using multiple regression"
   ]
  },
  {
   "cell_type": "markdown",
   "id": "environmental-words",
   "metadata": {},
   "source": [
    "### Table of contents\n",
    "- [Importing libraries and data](#import)\n",
    "- [Cleaning and processing data](#clean)\n",
    "- [Developing model(s)](#model)\n",
    "- [How to improve the model](#improve)"
   ]
  },
  {
   "cell_type": "markdown",
   "id": "broadband-invalid",
   "metadata": {},
   "source": [
    "### Importing libraries and data  <a name=import />"
   ]
  },
  {
   "cell_type": "code",
   "execution_count": 1,
   "id": "virgin-keeping",
   "metadata": {},
   "outputs": [],
   "source": [
    "#importing libraries\n",
    "\n",
    "import pandas as pd\n",
    "import numpy as np\n",
    "from sklearn import linear_model\n",
    "from sklearn.model_selection import train_test_split"
   ]
  },
  {
   "cell_type": "code",
   "execution_count": 2,
   "id": "greatest-sleep",
   "metadata": {},
   "outputs": [],
   "source": [
    "#importing data\n",
    "\n",
    "raw_df = pd.read_csv('NYC_Rental_data.csv')"
   ]
  },
  {
   "cell_type": "code",
   "execution_count": 3,
   "id": "returning-uncle",
   "metadata": {
    "scrolled": true
   },
   "outputs": [
    {
     "data": {
      "text/html": [
       "<div>\n",
       "<style scoped>\n",
       "    .dataframe tbody tr th:only-of-type {\n",
       "        vertical-align: middle;\n",
       "    }\n",
       "\n",
       "    .dataframe tbody tr th {\n",
       "        vertical-align: top;\n",
       "    }\n",
       "\n",
       "    .dataframe thead th {\n",
       "        text-align: right;\n",
       "    }\n",
       "</style>\n",
       "<table border=\"1\" class=\"dataframe\">\n",
       "  <thead>\n",
       "    <tr style=\"text-align: right;\">\n",
       "      <th></th>\n",
       "      <th>Unnamed: 0</th>\n",
       "      <th>address</th>\n",
       "      <th>listing url</th>\n",
       "      <th>rent</th>\n",
       "      <th>bedrooms</th>\n",
       "      <th>bathrooms</th>\n",
       "      <th>sqft</th>\n",
       "      <th>rented on</th>\n",
       "    </tr>\n",
       "  </thead>\n",
       "  <tbody>\n",
       "    <tr>\n",
       "      <th>0</th>\n",
       "      <td>0</td>\n",
       "      <td>1 Union Sq S #19C</td>\n",
       "      <td>https://streeteasy.com/rental/3235113?featured=1</td>\n",
       "      <td>$5,725</td>\n",
       "      <td>1 Bed</td>\n",
       "      <td>1 Bath</td>\n",
       "      <td>NaN</td>\n",
       "      <td>02/05/2021</td>\n",
       "    </tr>\n",
       "    <tr>\n",
       "      <th>1</th>\n",
       "      <td>1</td>\n",
       "      <td>180 W 20th Street #3E</td>\n",
       "      <td>https://streeteasy.com/rental/3395206?featured=1</td>\n",
       "      <td>$6,366</td>\n",
       "      <td>1 Bed</td>\n",
       "      <td>1.5 Baths</td>\n",
       "      <td>NaN</td>\n",
       "      <td>02/02/2021</td>\n",
       "    </tr>\n",
       "    <tr>\n",
       "      <th>2</th>\n",
       "      <td>2</td>\n",
       "      <td>450 W 42nd Street #21A</td>\n",
       "      <td>https://streeteasy.com/rental/3544410</td>\n",
       "      <td>$5,200</td>\n",
       "      <td>1 Bed</td>\n",
       "      <td>2 Baths</td>\n",
       "      <td>NaN</td>\n",
       "      <td>05/30/2021</td>\n",
       "    </tr>\n",
       "    <tr>\n",
       "      <th>3</th>\n",
       "      <td>3</td>\n",
       "      <td>224 East 135th Street #2204</td>\n",
       "      <td>https://streeteasy.com/rental/3544344</td>\n",
       "      <td>$4,100</td>\n",
       "      <td>2 Beds</td>\n",
       "      <td>1 Bath</td>\n",
       "      <td>702</td>\n",
       "      <td>05/30/2021</td>\n",
       "    </tr>\n",
       "    <tr>\n",
       "      <th>4</th>\n",
       "      <td>4</td>\n",
       "      <td>224 East 135th Street #2201</td>\n",
       "      <td>https://streeteasy.com/rental/3544340</td>\n",
       "      <td>$4,650</td>\n",
       "      <td>2 Beds</td>\n",
       "      <td>1 Bath</td>\n",
       "      <td>989</td>\n",
       "      <td>05/30/2021</td>\n",
       "    </tr>\n",
       "  </tbody>\n",
       "</table>\n",
       "</div>"
      ],
      "text/plain": [
       "   Unnamed: 0                      address  \\\n",
       "0           0            1 Union Sq S #19C   \n",
       "1           1        180 W 20th Street #3E   \n",
       "2           2       450 W 42nd Street #21A   \n",
       "3           3  224 East 135th Street #2204   \n",
       "4           4  224 East 135th Street #2201   \n",
       "\n",
       "                                        listing url    rent bedrooms  \\\n",
       "0  https://streeteasy.com/rental/3235113?featured=1  $5,725    1 Bed   \n",
       "1  https://streeteasy.com/rental/3395206?featured=1  $6,366    1 Bed   \n",
       "2             https://streeteasy.com/rental/3544410  $5,200    1 Bed   \n",
       "3             https://streeteasy.com/rental/3544344  $4,100   2 Beds   \n",
       "4             https://streeteasy.com/rental/3544340  $4,650   2 Beds   \n",
       "\n",
       "   bathrooms sqft   rented on  \n",
       "0     1 Bath  NaN  02/05/2021  \n",
       "1  1.5 Baths  NaN  02/02/2021  \n",
       "2    2 Baths  NaN  05/30/2021  \n",
       "3     1 Bath  702  05/30/2021  \n",
       "4     1 Bath  989  05/30/2021  "
      ]
     },
     "execution_count": 3,
     "metadata": {},
     "output_type": "execute_result"
    }
   ],
   "source": [
    "raw_df.head()"
   ]
  },
  {
   "cell_type": "markdown",
   "id": "humanitarian-stationery",
   "metadata": {},
   "source": [
    "### Cleaning and processing the data <a name=clean />"
   ]
  },
  {
   "cell_type": "code",
   "execution_count": 4,
   "id": "human-blood",
   "metadata": {},
   "outputs": [],
   "source": [
    "#cleaning data\n",
    "\n",
    "df = raw_df.drop('Unnamed: 0', axis =1)"
   ]
  },
  {
   "cell_type": "code",
   "execution_count": 5,
   "id": "optimum-vancouver",
   "metadata": {},
   "outputs": [
    {
     "data": {
      "text/plain": [
       "122"
      ]
     },
     "execution_count": 5,
     "metadata": {},
     "output_type": "execute_result"
    }
   ],
   "source": [
    "#checking for unique listings\n",
    "\n",
    "df['address'].nunique()"
   ]
  },
  {
   "cell_type": "markdown",
   "id": "northern-insider",
   "metadata": {},
   "source": [
    "Out of the 1300 rows, 122 are unique. \n",
    "\n",
    "90.62% of the data was redundant."
   ]
  },
  {
   "cell_type": "code",
   "execution_count": 6,
   "id": "helpful-bachelor",
   "metadata": {},
   "outputs": [],
   "source": [
    "# dropping duplicate rows\n",
    "\n",
    "data = df.drop_duplicates()"
   ]
  },
  {
   "cell_type": "code",
   "execution_count": 7,
   "id": "selected-origin",
   "metadata": {},
   "outputs": [
    {
     "data": {
      "text/plain": [
       "address         0\n",
       "listing url     0\n",
       "rent            0\n",
       "bedrooms        0\n",
       "bathrooms       0\n",
       "sqft           70\n",
       "rented on       0\n",
       "dtype: int64"
      ]
     },
     "execution_count": 7,
     "metadata": {},
     "output_type": "execute_result"
    }
   ],
   "source": [
    "# checking for null values\n",
    "\n",
    "data.isnull().sum()"
   ]
  },
  {
   "cell_type": "markdown",
   "id": "natural-turkey",
   "metadata": {},
   "source": [
    "Since the feature ```sqft``` has 70 null values out of 122, we will drop this feature"
   ]
  },
  {
   "cell_type": "code",
   "execution_count": 8,
   "id": "brief-editing",
   "metadata": {},
   "outputs": [],
   "source": [
    "data = data.drop('sqft', axis = 1)"
   ]
  },
  {
   "cell_type": "markdown",
   "id": "happy-opportunity",
   "metadata": {},
   "source": [
    "The columns are non-numerical at this stage and cannot be used for analysis. We will process the data to make it usable now."
   ]
  },
  {
   "cell_type": "code",
   "execution_count": 9,
   "id": "powerful-correspondence",
   "metadata": {},
   "outputs": [
    {
     "data": {
      "text/plain": [
       "Index(['address', 'listing url', 'rent', 'bedrooms', 'bathrooms', 'rented on'], dtype='object')"
      ]
     },
     "execution_count": 9,
     "metadata": {},
     "output_type": "execute_result"
    }
   ],
   "source": [
    "data.columns"
   ]
  },
  {
   "cell_type": "code",
   "execution_count": 10,
   "id": "juvenile-lesbian",
   "metadata": {},
   "outputs": [],
   "source": [
    "data['rent'] = data['rent'].str.replace('$','', regex=True).str.replace(',','',regex=True).astype('int')"
   ]
  },
  {
   "cell_type": "code",
   "execution_count": 11,
   "id": "optimum-material",
   "metadata": {
    "scrolled": true
   },
   "outputs": [],
   "source": [
    "data['bedrooms'] = data['bedrooms'].str.replace('Studio','0', regex=True).replace('Beds','',regex=True).str.replace('Bed','',regex=True)"
   ]
  },
  {
   "cell_type": "code",
   "execution_count": 12,
   "id": "anonymous-place",
   "metadata": {},
   "outputs": [],
   "source": [
    "data['bathrooms'] = data['bathrooms'].str.replace('Baths','',regex=True).str.replace('Bath','',regex=True).astype('float')"
   ]
  },
  {
   "cell_type": "markdown",
   "id": "preliminary-seller",
   "metadata": {},
   "source": [
    "### Developing the model(s) <a name=model />"
   ]
  },
  {
   "cell_type": "markdown",
   "id": "quiet-tackle",
   "metadata": {},
   "source": [
    "For our analysis, we will be using the variables `bedrooms` and `bathrooms` to predict `rent`"
   ]
  },
  {
   "cell_type": "code",
   "execution_count": 13,
   "id": "grave-subsection",
   "metadata": {},
   "outputs": [],
   "source": [
    "X = data[['bedrooms','bathrooms']]\n",
    "y = data['rent']"
   ]
  },
  {
   "cell_type": "code",
   "execution_count": 14,
   "id": "optional-denver",
   "metadata": {},
   "outputs": [],
   "source": [
    "X_train, X_test, y_train, y_test = train_test_split(X,y,test_size = 0.1,random_state = 10)"
   ]
  },
  {
   "cell_type": "code",
   "execution_count": 15,
   "id": "smooth-cooperation",
   "metadata": {},
   "outputs": [],
   "source": [
    "clf = linear_model.LinearRegression()"
   ]
  },
  {
   "cell_type": "code",
   "execution_count": 16,
   "id": "curious-transition",
   "metadata": {},
   "outputs": [
    {
     "data": {
      "text/plain": [
       "LinearRegression()"
      ]
     },
     "execution_count": 16,
     "metadata": {},
     "output_type": "execute_result"
    }
   ],
   "source": [
    "clf.fit(X_train,y_train)"
   ]
  },
  {
   "cell_type": "code",
   "execution_count": 17,
   "id": "unsigned-canadian",
   "metadata": {},
   "outputs": [
    {
     "data": {
      "text/plain": [
       "0.6492540978714583"
      ]
     },
     "execution_count": 17,
     "metadata": {},
     "output_type": "execute_result"
    }
   ],
   "source": [
    "clf.score(X_test,y_test)"
   ]
  },
  {
   "cell_type": "markdown",
   "id": "european-clinic",
   "metadata": {},
   "source": [
    "The R-sqaured value of our model is **64.93%**."
   ]
  },
  {
   "cell_type": "markdown",
   "id": "contrary-jamaica",
   "metadata": {},
   "source": [
    "To improve the model, we need to collect more data. 90.62% data was lost due to redundancy and an important feature `sqft` had to be dropped because of 57.78% values being null."
   ]
  },
  {
   "cell_type": "markdown",
   "id": "religious-relations",
   "metadata": {},
   "source": [
    "Now we will fill the missing values in the column `sqft` with median and check if it improves the model."
   ]
  },
  {
   "cell_type": "code",
   "execution_count": 18,
   "id": "brilliant-manufacturer",
   "metadata": {},
   "outputs": [],
   "source": [
    "data2 = df[['rent','bedrooms','bathrooms','sqft']]"
   ]
  },
  {
   "cell_type": "code",
   "execution_count": 19,
   "id": "flying-titanium",
   "metadata": {},
   "outputs": [],
   "source": [
    "data2 = data2.drop_duplicates()"
   ]
  },
  {
   "cell_type": "markdown",
   "id": "sealed-breast",
   "metadata": {},
   "source": [
    "Processing the data to make the columns numerical"
   ]
  },
  {
   "cell_type": "code",
   "execution_count": 20,
   "id": "insured-turtle",
   "metadata": {},
   "outputs": [],
   "source": [
    "data2['rent'] = data2['rent'].str.replace('$','', regex=True).str.replace(',','',regex=True).astype('int')"
   ]
  },
  {
   "cell_type": "code",
   "execution_count": 21,
   "id": "chicken-apache",
   "metadata": {},
   "outputs": [],
   "source": [
    "data2['bedrooms'] = data2['bedrooms'].str.replace('Studio','0', regex=True).replace('Beds','',regex=True).str.replace('Bed','',regex=True)"
   ]
  },
  {
   "cell_type": "code",
   "execution_count": 22,
   "id": "seventh-formation",
   "metadata": {},
   "outputs": [],
   "source": [
    "data2['bathrooms'] = data2['bathrooms'].str.replace('Baths','',regex=True).str.replace('Bath','',regex=True).astype('float')"
   ]
  },
  {
   "cell_type": "code",
   "execution_count": 23,
   "id": "retained-paris",
   "metadata": {},
   "outputs": [],
   "source": [
    "data2['sqft'] = pd.to_numeric(data2['sqft'], errors='coerce')"
   ]
  },
  {
   "cell_type": "code",
   "execution_count": 24,
   "id": "abstract-complement",
   "metadata": {},
   "outputs": [],
   "source": [
    "data2['sqft'] = data2['sqft'].fillna(data2['sqft'].median())"
   ]
  },
  {
   "cell_type": "markdown",
   "id": "metallic-housing",
   "metadata": {},
   "source": [
    "Splitting the training and testing set and fitting the model"
   ]
  },
  {
   "cell_type": "code",
   "execution_count": 25,
   "id": "freelance-monthly",
   "metadata": {},
   "outputs": [],
   "source": [
    "X2 = data2[['bedrooms', 'bathrooms', 'sqft']]\n",
    "y2 = data2['rent']"
   ]
  },
  {
   "cell_type": "code",
   "execution_count": 26,
   "id": "drawn-citation",
   "metadata": {},
   "outputs": [],
   "source": [
    "X2_train, X2_test, y2_train, y2_test = train_test_split(X2,y2,test_size = 0.1,random_state = 10)"
   ]
  },
  {
   "cell_type": "code",
   "execution_count": 27,
   "id": "cooperative-carpet",
   "metadata": {},
   "outputs": [],
   "source": [
    "clf2 = linear_model.LinearRegression()"
   ]
  },
  {
   "cell_type": "code",
   "execution_count": 28,
   "id": "encouraging-medicaid",
   "metadata": {},
   "outputs": [
    {
     "data": {
      "text/plain": [
       "LinearRegression()"
      ]
     },
     "execution_count": 28,
     "metadata": {},
     "output_type": "execute_result"
    }
   ],
   "source": [
    "clf2.fit(X2_train,y2_train)"
   ]
  },
  {
   "cell_type": "code",
   "execution_count": 29,
   "id": "extended-laser",
   "metadata": {},
   "outputs": [
    {
     "data": {
      "text/plain": [
       "0.6437533473048884"
      ]
     },
     "execution_count": 29,
     "metadata": {},
     "output_type": "execute_result"
    }
   ],
   "source": [
    "clf2.score(X2_test,y2_test)"
   ]
  },
  {
   "cell_type": "markdown",
   "id": "robust-module",
   "metadata": {},
   "source": [
    "Filling up the missing values in `sqft` column did not have much effect on the accuracy of the model. The R-squared value of the model came down from 64.93% to **64.38%**. This could be due to the fact that there were almost 58% missing values in the `sqft` column that were filled with the median."
   ]
  },
  {
   "cell_type": "code",
   "execution_count": 30,
   "id": "developmental-stock",
   "metadata": {},
   "outputs": [
    {
     "data": {
      "text/plain": [
       "array([3202.30096929])"
      ]
     },
     "execution_count": 30,
     "metadata": {},
     "output_type": "execute_result"
    }
   ],
   "source": [
    "clf2.predict([[1,1,700]])"
   ]
  },
  {
   "cell_type": "markdown",
   "id": "foster-printing",
   "metadata": {},
   "source": [
    "According to our model, a 700sqft apartement with 1 bedroom and  1 bathroom will roughly have a rent of $3200 per month."
   ]
  },
  {
   "cell_type": "markdown",
   "id": "outdoor-heaven",
   "metadata": {},
   "source": [
    "### How to improve the model <a name=improve />\n",
    "\n",
    "- The column `address` can be used to find the zipcodes the apartments are in and hence the data can be used to predict rents according to zipcode. This will improve the accuracy as the rent prices fluctuate a lot based on zipcodes in NYC.\n",
    "\n",
    "- 90% of the data was redundant. Collecting unique data would help improve the accuracy of the model.\n",
    "\n",
    "- Collecting more features such as the type of building, the year of construction, distance to subway station etc. can help be used to make the dataset more granular and may improve the accuracy of the model."
   ]
  }
 ],
 "metadata": {
  "kernelspec": {
   "display_name": "Python 3",
   "language": "python",
   "name": "python3"
  },
  "language_info": {
   "codemirror_mode": {
    "name": "ipython",
    "version": 3
   },
   "file_extension": ".py",
   "mimetype": "text/x-python",
   "name": "python",
   "nbconvert_exporter": "python",
   "pygments_lexer": "ipython3",
   "version": "3.8.5"
  }
 },
 "nbformat": 4,
 "nbformat_minor": 5
}
